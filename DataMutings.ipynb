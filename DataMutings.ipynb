{
 "cells": [
  {
   "cell_type": "code",
   "execution_count": null,
   "metadata": {},
   "outputs": [],
   "source": [
    "import pandas as pd\n",
    "import matplotlib.pyplot as plt\n",
    "%matplotlib inline"
   ]
  },
  {
   "cell_type": "code",
   "execution_count": null,
   "metadata": {},
   "outputs": [],
   "source": [
    "df = pd.read_csv('data/train_data.csv')"
   ]
  },
  {
   "cell_type": "code",
   "execution_count": null,
   "metadata": {},
   "outputs": [],
   "source": [
    "unit_times=muted_df.groupby(['Unit Number'])['Time'].count()\n",
    "\n",
    "top_50 = unit_times.sort_values(ascending=False)[:50]\n",
    "df = df[df['Unit Number'].isin(top_50.index)]\n",
    "df.to_csv('data/top50unmuted.csv')"
   ]
  },
  {
   "cell_type": "code",
   "execution_count": null,
   "metadata": {},
   "outputs": [],
   "source": [
    "df.head()"
   ]
  },
  {
   "cell_type": "code",
   "execution_count": null,
   "metadata": {},
   "outputs": [],
   "source": [
    "print('Minimum Time Count')\n",
    "sorted(df.groupby(['Unit Number'])['Time'].count())[0]"
   ]
  },
  {
   "cell_type": "code",
   "execution_count": null,
   "metadata": {},
   "outputs": [],
   "source": [
    "print('Maximum Time Count')\n",
    "sorted(df.Time.value_counts().index)[-1]"
   ]
  },
  {
   "cell_type": "code",
   "execution_count": null,
   "metadata": {},
   "outputs": [],
   "source": [
    "sm_percents = {}\n",
    "for x in df.columns[df.columns.str.contains('SM')]:\n",
    "    norm_val_counts = df.groupby(['Unit Number'])[x].value_counts(normalize=True,\n",
    "                                                            dropna=False)\n",
    "    null_percents = []\n",
    "\n",
    "    for un in subjects:\n",
    "        if np.nan not in norm_val_counts[un].index:\n",
    "            target_val=0\n",
    "        else:\n",
    "            target_val = round(norm_val_counts[un][np.nan],3)\n",
    "        null_percents.append(target_val)\n",
    "    sm_percents[x] = null_percents"
   ]
  },
  {
   "cell_type": "code",
   "execution_count": null,
   "metadata": {},
   "outputs": [],
   "source": [
    "pd.DataFrame(sm_percents)"
   ]
  },
  {
   "cell_type": "code",
   "execution_count": null,
   "metadata": {},
   "outputs": [],
   "source": [
    "data_dict = {}\n",
    "subjects = df['Unit Number'].unique()\n",
    "for un in subjects:\n",
    "    partition = df[df['Unit Number']==un]\n",
    "    #for c in range(len(partition)):\n",
    "    null_col_ix = sorted(np.random.randint(5,26,size=np.random.randint(21)))\n",
    "    mute_start = np.random.randint(50,100)\n",
    "    mute_range = np.random.randint(10,25)\n",
    "    mute_end = mute_start + mute_range\n",
    "    partition.iloc[mute_start:mute_end,null_col_ix] = np.nan\n",
    "    if mute_end <100:\n",
    "        mute_start2 = np.random.randint(mute_end,mute_end+50)\n",
    "        mute_range2 = np.random.randint(10,50)\n",
    "        mute_end2 = mute_start2+mute_range2\n",
    "        partition.iloc[mute_start2:mute_end2,null_col_ix] = np.nan\n",
    "    if partition.Time.max() >250:\n",
    "        mute_start3 = np.random.randint(np.random.randint(200,250),500)\n",
    "        mute_range3 = np.random.randint(25,50)\n",
    "        mute_end3 = mute_start3 + mute_range3\n",
    "        partition.iloc[mute_start3:mute_start3+mute_range3,null_col_ix] = np.nan\n",
    "\n",
    "        \n",
    "    data_dict[un] = partition"
   ]
  },
  {
   "cell_type": "code",
   "execution_count": null,
   "metadata": {},
   "outputs": [],
   "source": [
    "muted_df = pd.concat([data_dict[un] for un in subjects ])"
   ]
  },
  {
   "cell_type": "code",
   "execution_count": null,
   "metadata": {},
   "outputs": [],
   "source": [
    "muted_df.head(3)"
   ]
  },
  {
   "cell_type": "code",
   "execution_count": null,
   "metadata": {},
   "outputs": [],
   "source": [
    "sm_percents = {}\n",
    "for x in muted_df.columns[muted_df.columns.str.contains('SM')]:\n",
    "    norm_val_counts = muted_df.groupby(['Unit Number'])[x].value_counts(normalize=True,\n",
    "                                                            dropna=False)\n",
    "    null_percents = []\n",
    "\n",
    "    for un in sorted(muted_df['Unit Number'].unique()):\n",
    "        if np.nan not in norm_val_counts[un].index:\n",
    "            target_val=0\n",
    "        else:\n",
    "            target_val = round(norm_val_counts[un][np.nan],3)\n",
    "        null_percents.append(target_val)\n",
    "    sm_percents[x] = null_percents\n",
    "        "
   ]
  },
  {
   "cell_type": "code",
   "execution_count": null,
   "metadata": {},
   "outputs": [],
   "source": [
    "null_percent_metric = pd.DataFrame(sm_percents)\n",
    "null_percent_metric"
   ]
  },
  {
   "cell_type": "code",
   "execution_count": null,
   "metadata": {},
   "outputs": [],
   "source": [
    "muted_df.to_csv('data/top50muted.csv')\n",
    "null_percent_metric.to_csv('data/top50null_percent_metrix.csv')"
   ]
  },
  {
   "cell_type": "code",
   "execution_count": null,
   "metadata": {},
   "outputs": [],
   "source": [
    "sm_percents_over_time = {}\n",
    "for x in muted_df.columns[muted_df.columns.str.contains('SM')]:\n",
    "    norm_val_counts = muted_df.groupby(['Time'])[x].value_counts(normalize=True,\n",
    "                                                            dropna=False)\n",
    "    null_percents = []\n",
    "\n",
    "    for t in sorted(muted_df.Time.dropna().unique()):\n",
    "        if np.nan not in norm_val_counts[t].index:\n",
    "            target_val=0\n",
    "        else:\n",
    "            target_val = round(norm_val_counts[t][np.nan],3)\n",
    "        null_percents.append(target_val)\n",
    "    sm_percents_over_time[x] = null_percents\n",
    "    "
   ]
  },
  {
   "cell_type": "code",
   "execution_count": null,
   "metadata": {},
   "outputs": [],
   "source": [
    "time_df = pd.DataFrame(sm_percents_over_time)"
   ]
  },
  {
   "cell_type": "code",
   "execution_count": null,
   "metadata": {},
   "outputs": [],
   "source": [
    "time_df.plot(figsize=(15,15),title='Percent Muted Over Time - By Sensor',fontsize=20)"
   ]
  }
 ],
 "metadata": {
  "kernelspec": {
   "display_name": "Python 3",
   "language": "python",
   "name": "python3"
  },
  "language_info": {
   "codemirror_mode": {
    "name": "ipython",
    "version": 3
   },
   "file_extension": ".py",
   "mimetype": "text/x-python",
   "name": "python",
   "nbconvert_exporter": "python",
   "pygments_lexer": "ipython3",
   "version": "3.6.5"
  }
 },
 "nbformat": 4,
 "nbformat_minor": 2
}
